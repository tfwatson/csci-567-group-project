{
  "cells": [
    {
      "cell_type": "code",
      "execution_count": 1,
      "metadata": {
        "id": "iVU0eZQ91S4a"
      },
      "outputs": [],
      "source": [
        "import pandas as pd\n",
        "import torch\n",
        "import torch.nn as nn\n",
        "from torch.utils.data import Dataset, DataLoader\n",
        "import numpy as np"
      ]
    },
    {
      "cell_type": "code",
      "source": [
        "from google.colab import drive\n",
        "drive.mount('/content/drive')"
      ],
      "metadata": {
        "colab": {
          "base_uri": "https://localhost:8080/"
        },
        "id": "qR2eCEvp1YGv",
        "outputId": "b543ec19-32a1-42fe-ae77-2b3263ef2c7e"
      },
      "execution_count": 2,
      "outputs": [
        {
          "output_type": "stream",
          "name": "stdout",
          "text": [
            "Mounted at /content/drive\n"
          ]
        }
      ]
    },
    {
      "cell_type": "code",
      "execution_count": 3,
      "metadata": {
        "id": "FmeWhEke1S4c"
      },
      "outputs": [],
      "source": [
        "device = torch.device('cuda') if torch.cuda.is_available() else torch.device('cpu')"
      ]
    },
    {
      "cell_type": "code",
      "execution_count": 4,
      "metadata": {
        "id": "XSR44hjc1S4d"
      },
      "outputs": [],
      "source": [
        "train_text = pd.read_csv('/content/drive/MyDrive/csci_567_project/concatenated_data/train_textmodel.csv', header=None)\n",
        "train_text = train_text.iloc[:, 1:-1]"
      ]
    },
    {
      "cell_type": "code",
      "execution_count": 5,
      "metadata": {
        "id": "mo06SsEE1S4d"
      },
      "outputs": [],
      "source": [
        "train_audio = pd.read_csv('/content/drive/MyDrive/csci_567_project/concatenated_data/train_voice.csv', header=None)\n",
        "train_audio = train_audio.iloc[:, 1:-1]"
      ]
    },
    {
      "cell_type": "code",
      "execution_count": 6,
      "metadata": {
        "id": "gmFKZjVB1S4e"
      },
      "outputs": [],
      "source": [
        "def sentiment_to_tensor(s: str):\n",
        "    if s == 'positive':\n",
        "        return 0\n",
        "    elif s == 'neutral':\n",
        "        return 1\n",
        "    else:\n",
        "        return 2\n",
        "\n",
        "train_labels = pd.read_csv('/content/drive/MyDrive/csci_567_project/train_text.csv')\n",
        "train_labels = train_labels['Sentiment'].map(lambda x: sentiment_to_tensor(x))"
      ]
    },
    {
      "cell_type": "code",
      "execution_count": 7,
      "metadata": {
        "id": "-Wj6TqKq1S4f"
      },
      "outputs": [],
      "source": [
        "batch_size = 32\n",
        "\n",
        "class ConcatenatedDataset:\n",
        "    def __init__(self, text, audio, labels) -> None:\n",
        "        self.text = text\n",
        "        self.audio = audio\n",
        "        self.labels = labels\n",
        "\n",
        "    def __len__(self) -> int:\n",
        "        return self.text.shape[0]\n",
        "\n",
        "    def __getitem__(self, idx):\n",
        "        np_concatenated = np.concatenate((self.text.iloc[idx].values, self.audio.iloc[idx].values))\n",
        "        return torch.from_numpy(np_concatenated).type(torch.float32), self.labels.iloc[idx]\n",
        "\n",
        "train_dataset = ConcatenatedDataset(train_text, train_audio, train_labels)\n",
        "train_dataloader = DataLoader(train_dataset, batch_size=batch_size, shuffle=True)"
      ]
    },
    {
      "cell_type": "code",
      "execution_count": 15,
      "metadata": {
        "id": "MHkkskPx1S4g"
      },
      "outputs": [],
      "source": [
        "lr = 0.01\n",
        "\n",
        "class ConcatenatedNetwork(nn.Module):\n",
        "    def __init__(self):\n",
        "        super(ConcatenatedNetwork, self).__init__()\n",
        "\n",
        "        self.l1 = nn.Linear(train_dataloader.dataset[0][0].shape[0], 128)\n",
        "        self.l2 = nn.Linear(128, 64)\n",
        "        self.l3 = nn.Linear(64, 32)\n",
        "        self.classification = nn.Linear(32, 3)\n",
        "\n",
        "    def forward(self, x):\n",
        "        x = self.l1(x)\n",
        "        x = nn.functional.relu(x)\n",
        "        x = self.l2(x)\n",
        "        x = nn.functional.relu(x)\n",
        "        x = self.l3(x)\n",
        "        x = nn.functional.relu(x)\n",
        "        x = self.classification(x)\n",
        "        x = nn.functional.softmax(x)\n",
        "        return x\n",
        "\n",
        "network = ConcatenatedNetwork().to(device=device)\n",
        "\n",
        "optimizer = torch.optim.AdamW(params=network.parameters(), lr=lr)\n",
        "criterion = nn.CrossEntropyLoss()"
      ]
    },
    {
      "cell_type": "code",
      "execution_count": 16,
      "metadata": {
        "colab": {
          "base_uri": "https://localhost:8080/"
        },
        "id": "XRoUHVMm1S4g",
        "outputId": "f08c0e7f-d3b7-4718-f254-4904fbd73013"
      },
      "outputs": [
        {
          "output_type": "stream",
          "name": "stderr",
          "text": [
            "<ipython-input-15-4053e914cb64>:20: UserWarning: Implicit dimension choice for softmax has been deprecated. Change the call to include dim=X as an argument.\n",
            "  x = nn.functional.softmax(x)\n"
          ]
        },
        {
          "output_type": "stream",
          "name": "stdout",
          "text": [
            "Epoch 1 completed\n",
            "Epoch 2 completed\n",
            "Epoch 3 completed\n",
            "Epoch 4 completed\n",
            "Epoch 5 completed\n",
            "Epoch 6 completed\n",
            "Epoch 7 completed\n",
            "Epoch 8 completed\n",
            "Epoch 9 completed\n",
            "Epoch 10 completed\n",
            "Epoch 11 completed\n",
            "Epoch 12 completed\n",
            "Epoch 13 completed\n",
            "Epoch 14 completed\n",
            "Epoch 15 completed\n",
            "Epoch 16 completed\n",
            "Epoch 17 completed\n",
            "Epoch 18 completed\n",
            "Epoch 19 completed\n",
            "Epoch 20 completed\n",
            "Epoch 21 completed\n",
            "Epoch 22 completed\n",
            "Epoch 23 completed\n",
            "Epoch 24 completed\n",
            "Epoch 25 completed\n"
          ]
        }
      ],
      "source": [
        "# Tunable hyperparameters\n",
        "num_epochs = 25\n",
        "\n",
        "valid_loss_min = np.Inf\n",
        "\n",
        "for epoch in range(num_epochs):\n",
        "    train_loss = 0.0\n",
        "\n",
        "    network.train()\n",
        "    for data, target in train_dataloader:\n",
        "        optimizer.zero_grad()\n",
        "        data = data.to(device)\n",
        "        target = target.to(device)\n",
        "        output = network(data)\n",
        "\n",
        "        loss = criterion(output, target)\n",
        "        loss.backward()\n",
        "        optimizer.step()\n",
        "    print(f'Epoch {epoch + 1} completed')"
      ]
    },
    {
      "cell_type": "code",
      "source": [
        "dev_text = pd.read_csv('/content/drive/MyDrive/csci_567_project/concatenated_data/dev_textmodel.csv', header=None)\n",
        "dev_text = dev_text.iloc[:, 1:-1]"
      ],
      "metadata": {
        "id": "a_UyuJ3p437E"
      },
      "execution_count": 17,
      "outputs": []
    },
    {
      "cell_type": "code",
      "source": [
        "dev_audio = pd.read_csv('/content/drive/MyDrive/csci_567_project/concatenated_data/dev_voice.csv', header=None)\n",
        "dev_audio = dev_audio.iloc[:, 1:-1]"
      ],
      "metadata": {
        "id": "flmO-20J48w-"
      },
      "execution_count": 18,
      "outputs": []
    },
    {
      "cell_type": "code",
      "source": [
        "dev_labels = pd.read_csv('/content/drive/MyDrive/csci_567_project/dev_text.csv')\n",
        "dev_labels = dev_labels['Sentiment'].map(lambda x: sentiment_to_tensor(x))"
      ],
      "metadata": {
        "id": "RRbQw3Nc4_eJ"
      },
      "execution_count": 19,
      "outputs": []
    },
    {
      "cell_type": "code",
      "source": [
        "dev_dataset = ConcatenatedDataset(dev_text, dev_audio, dev_labels)\n",
        "dev_dataloader = DataLoader(dev_dataset, batch_size=batch_size, shuffle=True)"
      ],
      "metadata": {
        "id": "DhV7POvZ5DCO"
      },
      "execution_count": 20,
      "outputs": []
    },
    {
      "cell_type": "code",
      "source": [
        "correct = 0\n",
        "total = 0\n",
        "\n",
        "network.eval()\n",
        "for data, label in dev_dataloader:\n",
        "    data = data.to(device)\n",
        "    label = label.to(device)\n",
        "    output = network(data)\n",
        "    for o,l in zip(torch.argmax(output,axis = 1),label):\n",
        "        if o == l:\n",
        "            correct += 1\n",
        "        total += 1"
      ],
      "metadata": {
        "colab": {
          "base_uri": "https://localhost:8080/"
        },
        "id": "tf4Zg2cM5GzX",
        "outputId": "95e47a2e-8398-434b-83a1-033ed2cd9b6f"
      },
      "execution_count": 21,
      "outputs": [
        {
          "output_type": "stream",
          "name": "stderr",
          "text": [
            "<ipython-input-15-4053e914cb64>:20: UserWarning: Implicit dimension choice for softmax has been deprecated. Change the call to include dim=X as an argument.\n",
            "  x = nn.functional.softmax(x)\n"
          ]
        }
      ]
    },
    {
      "cell_type": "code",
      "source": [
        "print(correct / total)"
      ],
      "metadata": {
        "colab": {
          "base_uri": "https://localhost:8080/"
        },
        "id": "QRVTqlYQ5I91",
        "outputId": "8903a08c-e0fe-40d0-8f32-58f693abbebb"
      },
      "execution_count": 22,
      "outputs": [
        {
          "output_type": "stream",
          "name": "stdout",
          "text": [
            "0.45076784101174344\n"
          ]
        }
      ]
    },
    {
      "cell_type": "code",
      "source": [
        "test_text = pd.read_csv('/content/drive/MyDrive/csci_567_project/concatenated_data/test_textmodel.csv', header=None)\n",
        "test_text = test_text.iloc[:, 1:-1]"
      ],
      "metadata": {
        "id": "dj-4L-epLsss"
      },
      "execution_count": 23,
      "outputs": []
    },
    {
      "cell_type": "code",
      "source": [
        "test_audio = pd.read_csv('/content/drive/MyDrive/csci_567_project/concatenated_data/test_voice.csv', header=None)\n",
        "test_audio = test_audio.iloc[:, 1:-1]"
      ],
      "metadata": {
        "id": "_ErHFf_jLx3B"
      },
      "execution_count": 24,
      "outputs": []
    },
    {
      "cell_type": "code",
      "source": [
        "test_labels = pd.read_csv('/content/drive/MyDrive/csci_567_project/test_text.csv')\n",
        "test_labels = test_labels['Sentiment'].map(lambda x: sentiment_to_tensor(x))"
      ],
      "metadata": {
        "id": "Wx7I6RT9L37V"
      },
      "execution_count": 27,
      "outputs": []
    },
    {
      "cell_type": "code",
      "source": [
        "test_dataset = ConcatenatedDataset(test_text, test_audio, test_labels)\n",
        "test_dataloader = DataLoader(test_dataset, batch_size=batch_size, shuffle=True)"
      ],
      "metadata": {
        "id": "2Cg144NLMuAs"
      },
      "execution_count": 28,
      "outputs": []
    },
    {
      "cell_type": "code",
      "source": [
        "correct = 0\n",
        "total = 0\n",
        "\n",
        "network.eval()\n",
        "for data, label in test_dataloader:\n",
        "    data = data.to(device)\n",
        "    label = label.to(device)\n",
        "    output = network(data)\n",
        "    for o,l in zip(torch.argmax(output,axis = 1),label):\n",
        "        if o == l:\n",
        "            correct += 1\n",
        "        total += 1"
      ],
      "metadata": {
        "colab": {
          "base_uri": "https://localhost:8080/"
        },
        "id": "rdi1ZPQwMz-y",
        "outputId": "7cb63d78-d82a-4ff3-aa1c-1b128e03c2e0"
      },
      "execution_count": 29,
      "outputs": [
        {
          "output_type": "stream",
          "name": "stderr",
          "text": [
            "<ipython-input-15-4053e914cb64>:20: UserWarning: Implicit dimension choice for softmax has been deprecated. Change the call to include dim=X as an argument.\n",
            "  x = nn.functional.softmax(x)\n"
          ]
        }
      ]
    },
    {
      "cell_type": "code",
      "source": [
        "print(correct / total)"
      ],
      "metadata": {
        "id": "qoQlK-vuM4jb",
        "outputId": "a2409574-efcf-4c3e-850d-716e66dbe1a7",
        "colab": {
          "base_uri": "https://localhost:8080/"
        }
      },
      "execution_count": 30,
      "outputs": [
        {
          "output_type": "stream",
          "name": "stdout",
          "text": [
            "0.46091954022988507\n"
          ]
        }
      ]
    }
  ],
  "metadata": {
    "kernelspec": {
      "display_name": "Python 3",
      "language": "python",
      "name": "python3"
    },
    "language_info": {
      "codemirror_mode": {
        "name": "ipython",
        "version": 3
      },
      "file_extension": ".py",
      "mimetype": "text/x-python",
      "name": "python",
      "nbconvert_exporter": "python",
      "pygments_lexer": "ipython3",
      "version": "3.11.5"
    },
    "colab": {
      "provenance": []
    }
  },
  "nbformat": 4,
  "nbformat_minor": 0
}